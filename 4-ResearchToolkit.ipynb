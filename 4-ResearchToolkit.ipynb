{
 "cells": [
  {
   "cell_type": "markdown",
   "metadata": {
    "slideshow": {
     "slide_type": "slide"
    }
   },
   "source": [
    "# Module 4, Part 1: Build Your Toolkit (2 hours)\n",
    "\"Tech Loops\" from [xkcd](https://xkcd.com/1579/) by Randall Munroe\n",
    "<img src=\"https://imgs.xkcd.com/comics/tech_loops.png\" width=\"600px\" />\n"
   ]
  },
  {
   "cell_type": "markdown",
   "metadata": {
    "slideshow": {
     "slide_type": "slide"
    }
   },
   "source": [
    "## Reproducible Data Analysis in Jupyter \n",
    "\n",
    "### Pre-class work \n",
    "\n",
    "Watch this [11-part video series](http://jakevdp.github.io/blog/2017/03/03/reproducible-data-analysis-in-jupyter/) by Jake Vanderplas, demonstrating a workflow using Python and Jupyter. Total time: 1:13:43"
   ]
  },
  {
   "cell_type": "code",
   "execution_count": 1,
   "metadata": {
    "slideshow": {
     "slide_type": "fragment"
    }
   },
   "outputs": [
    {
     "data": {
      "text/html": [
       "\n",
       "        <iframe\n",
       "            width=\"600\"\n",
       "            height=\"350\"\n",
       "            src=\"https://www.youtube.com/embed/?index=0&list=PLYCpMb24GpOC704uO9svUrihl-HY1tTJJ\"\n",
       "            frameborder=\"0\"\n",
       "            allowfullscreen\n",
       "        ></iframe>\n",
       "        "
      ],
      "text/plain": [
       "<IPython.lib.display.YouTubeVideo at 0x7fd358155668>"
      ]
     },
     "execution_count": 1,
     "metadata": {},
     "output_type": "execute_result"
    }
   ],
   "source": [
    "from IPython.display import YouTubeVideo\n",
    "def embed_video(index, playlist='PLYCpMb24GpOC704uO9svUrihl-HY1tTJJ'):\n",
    "    return YouTubeVideo('', index=index - 1, list=playlist, width=600, height=350)\n",
    "embed_video(1)"
   ]
  },
  {
   "cell_type": "markdown",
   "metadata": {
    "slideshow": {
     "slide_type": "subslide"
    }
   },
   "source": [
    "### In-class exercise (45 min)\n",
    "\n",
    "Pick a data analysis project you are already working on and try to reproduce part of the workflow; alternatively, try to replicate one of the videos.\n",
    "1. Loading and Visualizing Data\n",
    "2. Further Data Exploration\n",
    "3. Version Control with Git & GitHub\n",
    "4. Working with Data and GitHub\n",
    "5. Creating a Python Package\n",
    "6. Unit Testing with PyTest\n",
    "7. Refactoring for Speed\n",
    "8. Debugging a Broken Function\n",
    "10. Further Data Exploration\n",
    "11. Cleaning-up the Notebook"
   ]
  },
  {
   "cell_type": "markdown",
   "metadata": {
    "slideshow": {
     "slide_type": "slide"
    }
   },
   "source": [
    "## Alternative to Python: R and RStudio \n",
    "\n",
    "\n",
    "\n",
    "<table>\n",
    "<tr>\n",
    "<td><img src=\"https://developer.r-project.org/Logo/Rlogo.svg\" width=\"150px\" /></td>\n",
    "<td><img src=\"https://www.rstudio.com/wp-content/uploads/2014/03/blue-250.png\" width=\"250px\" /></td>\n",
    "<td><img src=\"https://www.rstudio.com/wp-content/uploads/2015/10/rstudio.png\" width=\"300px\" /></td>\n",
    "<td><img src=\"https://www.rstudio.com/wp-content/uploads/2015/10/r-packages.png\" width=\"300px\" /></td>\n",
    "</tr>\n",
    "</table>\n",
    "\n",
    "### Resources\n",
    "* Download [R](https://cran.rstudio.com/) and [RStudio](https://www.rstudio.com/products/rstudio/download/)\n",
    "* [Reproducible Research with R and RStudio](https://github.com/christophergandrud/Rep-Res-Book)\n",
    "* [R-bloggers](https://www.r-bloggers.com/)\n",
    "* [R Conferences](https://www.r-project.org/conferences.html)\n",
    "* [#rstats](http://twitter.com/hashtag/rstats)"
   ]
  },
  {
   "cell_type": "markdown",
   "metadata": {
    "slideshow": {
     "slide_type": "slide"
    }
   },
   "source": [
    "## Data wrangling with OpenRefine\n",
    "\n",
    "<img src=\"https://upload.wikimedia.org/wikipedia/commons/thumb/7/76/Google-refine-logo.svg/200px-Google-refine-logo.svg.png\" width=\"80px\" />\n",
    "\n",
    "### Data for the lesson\n",
    "[Download data](https://osf.io/39fus/download)\n",
    "\n",
    "### Resources\n",
    "* [Download](http://openrefine.org/)"
   ]
  },
  {
   "cell_type": "code",
   "execution_count": 2,
   "metadata": {
    "slideshow": {
     "slide_type": "fragment"
    }
   },
   "outputs": [
    {
     "data": {
      "text/html": [
       "\n",
       "        <iframe\n",
       "            width=\"600\"\n",
       "            height=\"350\"\n",
       "            src=\"https://www.youtube.com/embed/?index=0&list=PL737054C67FCC0741\"\n",
       "            frameborder=\"0\"\n",
       "            allowfullscreen\n",
       "        ></iframe>\n",
       "        "
      ],
      "text/plain": [
       "<IPython.lib.display.YouTubeVideo at 0x7fd3435d3080>"
      ]
     },
     "execution_count": 2,
     "metadata": {},
     "output_type": "execute_result"
    }
   ],
   "source": [
    "def embed_ORvideo(index, playlist='PL737054C67FCC0741'):\n",
    "    return YouTubeVideo('', index=index - 1, list=playlist, width=600, height=350)\n",
    "embed_ORvideo(1)"
   ]
  },
  {
   "cell_type": "markdown",
   "metadata": {
    "slideshow": {
     "slide_type": "slide"
    }
   },
   "source": [
    "## Scientific Writing with LaTeX (and Markdown)\n",
    "\n",
    "<img src=\"https://upload.wikimedia.org/wikipedia/commons/9/92/LaTeX_logo.svg\" width=\"300px\" />\n",
    "\n",
    "### Resources\n",
    "* [Learn more](http://www.latex-project.org/)\n",
    "* [LaTeX for the Health Sciences](http://campusguides.lib.utah.edu/LaTeXHealthSciences) guide --generally useful for anyone\n",
    "* [LaTeX Wikibook](https://en.wikibooks.org/wiki/LaTeX)\n",
    "* [UofU Thesis Template](http://ftp.math.utah.edu/pub/uuthesis/)"
   ]
  },
  {
   "cell_type": "markdown",
   "metadata": {
    "slideshow": {
     "slide_type": "subslide"
    }
   },
   "source": [
    "### Examples\n",
    "\n",
    "**Basic LaTeX document:**\n",
    "```\n",
    "\\documentclass{article}\n",
    "\\title{LaTeX 101}\n",
    "\\author{You}\n",
    "\\date{July 2017}\n",
    "\\begin{document}\n",
    "  \\maketitle\n",
    "  Hello world!\n",
    "\\end{document}\n",
    "```\n",
    "\n",
    "See a similar example in action on [Overleaf](https://www.overleaf.com/latex/examples/hello-world/mchkmshqjpjt)."
   ]
  },
  {
   "cell_type": "markdown",
   "metadata": {
    "slideshow": {
     "slide_type": "subslide"
    }
   },
   "source": [
    "**Annotating equations:**\n",
    "$$z = \\overbrace{\\underbrace{x}_\\text{real} + i\\underbrace{y}_\\text{imaginary}}^\\text{complex number}$$\n",
    "\n",
    "```\n",
    "$$\n",
    " z = \\overbrace{\n",
    "   \\underbrace{x}_\\text{real} + i\n",
    "   \\underbrace{y}_\\text{imaginary}\n",
    "  }^\\text{complex number}\n",
    "$$\n",
    "```\n",
    "\n",
    "A side note: the `$$...$$` syntax is depreciated in TeX but still used in other programs. The preferred syntax is `\\[...\\]` but sometimes interferes with Markdown. If you are curious to learn more, check out this [Survey of Syntax for Math in Markdown](https://github.com/cben/mathdown/wiki/math-in-markdown)."
   ]
  },
  {
   "cell_type": "markdown",
   "metadata": {
    "slideshow": {
     "slide_type": "subslide"
    }
   },
   "source": [
    "**Creating a matrix:**\n",
    "$$\n",
    "A_{m,n} = \n",
    " \\begin{pmatrix}\n",
    "  a_{1,1} & a_{1,2} & \\cdots & a_{1,n} \\\\\n",
    "  a_{2,1} & a_{2,2} & \\cdots & a_{2,n} \\\\\n",
    "  \\vdots  & \\vdots  & \\ddots & \\vdots  \\\\\n",
    "  a_{m,1} & a_{m,2} & \\cdots & a_{m,n} \n",
    " \\end{pmatrix}\n",
    "$$\n",
    "```\n",
    "$$\n",
    "A_{m,n} = \n",
    " \\begin{pmatrix}\n",
    "  a_{1,1} & a_{1,2} & \\cdots & a_{1,n} \\\\\n",
    "  a_{2,1} & a_{2,2} & \\cdots & a_{2,n} \\\\\n",
    "  \\vdots  & \\vdots  & \\ddots & \\vdots  \\\\\n",
    "  a_{m,1} & a_{m,2} & \\cdots & a_{m,n} \n",
    " \\end{pmatrix}\n",
    "$$\n",
    "```"
   ]
  },
  {
   "cell_type": "markdown",
   "metadata": {
    "slideshow": {
     "slide_type": "slide"
    }
   },
   "source": [
    "## Open Science Framework \n",
    "\n",
    "### Examples\n",
    "* [Reproducibility Project: Psychology](https://osf.io/ezcuj/)\n",
    "* [Reproducibility Project: Cancer Biology](https://osf.io/e81xl/)"
   ]
  },
  {
   "cell_type": "code",
   "execution_count": 3,
   "metadata": {
    "slideshow": {
     "slide_type": "fragment"
    }
   },
   "outputs": [
    {
     "data": {
      "image/jpeg": "[encoded data removed]",
      "text/html": [
       "\n",
       "        <iframe\n",
       "            width=\"600\"\n",
       "            height=\"350\"\n",
       "            src=\"https://www.youtube.com/embed/2TV21gOzfhw\"\n",
       "            frameborder=\"0\"\n",
       "            allowfullscreen\n",
       "        ></iframe>\n",
       "        "
      ],
      "text/plain": [
       "<IPython.lib.display.YouTubeVideo at 0x7fd3435d3390>"
      ]
     },
     "execution_count": 3,
     "metadata": {},
     "output_type": "execute_result"
    }
   ],
   "source": [
    "YouTubeVideo(\"2TV21gOzfhw\", width=600, height=350)"
   ]
  },
  {
   "cell_type": "markdown",
   "metadata": {
    "slideshow": {
     "slide_type": "subslide"
    }
   },
   "source": [
    "[Learn more](https://cos.io/our-products/open-science-framework/) and get started <a href=\"http://osf.io\">here</a>.\n",
    "\n",
    "<center><img src=\"https://cdn.cos.io/media/images/research_lifecycle.original.png\" /></center>\n"
   ]
  },
  {
   "cell_type": "markdown",
   "metadata": {
    "slideshow": {
     "slide_type": "slide"
    }
   },
   "source": [
    "## LabArchives\n",
    "Login under University of Utah: https://mynotebook.labarchives.com/\n",
    "\n",
    "### Resources\n",
    "* Follow <a href=\"http://campusguides.lib.utah.edu/labarchives\">the guide here</a> to get started.\n",
    "\n",
    "### Electronic Lab Notebooks\n",
    "* [ELNs](https://datamanagement.hms.harvard.edu/electronic-lab-notebooks)"
   ]
  },
  {
   "cell_type": "code",
   "execution_count": 4,
   "metadata": {
    "slideshow": {
     "slide_type": "fragment"
    }
   },
   "outputs": [
    {
     "data": {
      "image/jpeg": "[encoded data removed]",
      "text/html": [
       "\n",
       "        <iframe\n",
       "            width=\"600\"\n",
       "            height=\"350\"\n",
       "            src=\"https://www.youtube.com/embed/2Jd4JOLImfI\"\n",
       "            frameborder=\"0\"\n",
       "            allowfullscreen\n",
       "        ></iframe>\n",
       "        "
      ],
      "text/plain": [
       "<IPython.lib.display.YouTubeVideo at 0x7fd3435d3400>"
      ]
     },
     "execution_count": 4,
     "metadata": {},
     "output_type": "execute_result"
    }
   ],
   "source": [
    "YouTubeVideo(\"2Jd4JOLImfI\", width=600, height=350)"
   ]
  },
  {
   "cell_type": "markdown",
   "metadata": {
    "slideshow": {
     "slide_type": "slide"
    }
   },
   "source": [
    "## VisTrails --initially developed here at The University of Utah\n",
    "\n",
    "![](https://upload.wikimedia.org/wikipedia/en/f/f5/VisTrails_logo.png)\n",
    "\n",
    "Demo. See [notes](./notes-vistrails.md).\n",
    "\n",
    "### Resources\n",
    "* [Download](https://www.vistrails.org/index.php/Main_Page)"
   ]
  },
  {
   "cell_type": "markdown",
   "metadata": {
    "slideshow": {
     "slide_type": "slide"
    }
   },
   "source": [
    "## ReproZip\n",
    "\n",
    "See this recent [SciPy17 presentation](https://vickysteeves.gitlab.io/2017-SciPy/#/) and/or [notes](./notes-reprozip.md).\n",
    "\n",
    "### Resources\n",
    "* [Download](https://www.reprozip.org/)\n",
    "* [Examples](https://examples.reprozip.org/)"
   ]
  },
  {
   "cell_type": "code",
   "execution_count": 5,
   "metadata": {
    "scrolled": false,
    "slideshow": {
     "slide_type": "fragment"
    }
   },
   "outputs": [
    {
     "data": {
      "image/jpeg": "[encoded data removed]",
      "text/html": [
       "\n",
       "        <iframe\n",
       "            width=\"600\"\n",
       "            height=\"350\"\n",
       "            src=\"https://www.youtube.com/embed/-zLPuwCHXo0\"\n",
       "            frameborder=\"0\"\n",
       "            allowfullscreen\n",
       "        ></iframe>\n",
       "        "
      ],
      "text/plain": [
       "<IPython.lib.display.YouTubeVideo at 0x7fd3435d3978>"
      ]
     },
     "execution_count": 5,
     "metadata": {},
     "output_type": "execute_result"
    }
   ],
   "source": [
    "YouTubeVideo(\"-zLPuwCHXo0\", width=600, height=350)"
   ]
  },
  {
   "cell_type": "markdown",
   "metadata": {
    "slideshow": {
     "slide_type": "slide"
    }
   },
   "source": [
    "## Other tools\n",
    "* [GNU Make](https://www.gnu.org/software/make/)\n",
    "* [Pandoc](http://pandoc.org/)\n",
    "* [GitBook](https://www.gitbook.com/)\n",
    "* [GitLab](https://about.gitlab.com/)"
   ]
  },
  {
   "cell_type": "markdown",
   "metadata": {
    "slideshow": {
     "slide_type": "slide"
    }
   },
   "source": [
    "## Exercise\n",
    "Pick one of the tools and set up a project or workflow with it. \n",
    "\n",
    "## Additional Learning Resources\n",
    "* [Software Carpentry](https://software-carpentry.org/lessons/)\n",
    "* [Data Carpentry](http://www.datacarpentry.org/lessons/)"
   ]
  }
 ],
 "metadata": {
  "celltoolbar": "Slideshow",
  "kernelspec": {
   "display_name": "Python 3",
   "language": "python",
   "name": "python3"
  },
  "language_info": {
   "codemirror_mode": {
    "name": "ipython",
    "version": 3
   },
   "file_extension": ".py",
   "mimetype": "text/x-python",
   "name": "python",
   "nbconvert_exporter": "python",
   "pygments_lexer": "ipython3",
   "version": "3.6.4"
  }
 },
 "nbformat": 4,
 "nbformat_minor": 2
}
