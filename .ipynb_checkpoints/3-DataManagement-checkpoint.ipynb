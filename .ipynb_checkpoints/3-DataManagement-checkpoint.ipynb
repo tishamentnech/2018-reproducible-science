{
 "cells": [
  {
   "cell_type": "markdown",
   "metadata": {
    "slideshow": {
     "slide_type": "slide"
    }
   },
   "source": [
    "# Module 3: Data Management (2 hours)"
   ]
  },
  {
   "cell_type": "code",
   "execution_count": 1,
   "metadata": {
    "slideshow": {
     "slide_type": "fragment"
    }
   },
   "outputs": [
    {
     "data": {
      "image/jpeg": "[encoded data removed]",
      "text/html": [
       "\n",
       "        <iframe\n",
       "            width=\"600\"\n",
       "            height=\"350\"\n",
       "            src=\"https://www.youtube.com/embed/66oNv_DJuPc\"\n",
       "            frameborder=\"0\"\n",
       "            allowfullscreen\n",
       "        ></iframe>\n",
       "        "
      ],
      "text/plain": [
       "<IPython.lib.display.YouTubeVideo at 0x103d13cc0>"
      ]
     },
     "execution_count": 1,
     "metadata": {},
     "output_type": "execute_result"
    }
   ],
   "source": [
    "from IPython.display import YouTubeVideo\n",
    "YouTubeVideo(\"66oNv_DJuPc\", width=600, height=350)"
   ]
  },
  {
   "cell_type": "markdown",
   "metadata": {
    "slideshow": {
     "slide_type": "slide"
    }
   },
   "source": [
    "## The Data Life Cycle\n",
    "From [University of Sydney Library](https://library.sydney.edu.au/research/data-management/research-data-management.html)\n",
    "<center><img src=\"https://library.sydney.edu.au/research/data-management/images/xResearch_data_lifecycle_final_20150827.png.pagespeed.ic.VG8oRep6aH.png\" width=\"550px\" /></center>"
   ]
  },
  {
   "cell_type": "markdown",
   "metadata": {
    "slideshow": {
     "slide_type": "slide"
    }
   },
   "source": [
    "## Organizations Influencing Research Data Management\n",
    "<table>\n",
    "<tr>\n",
    "<td><a href=\"http://www.codata.org/\"><img src=\"http://www.codata.org/uploads/Main/logo.png\" width=\"250px\" /></a></td>\n",
    "<td><a href=\"http://sites.nationalacademies.org/PGA/brdi/index.htm\"><img src=\"http://sites.nationalacademies.org/cs/groups/public/documents/webgraphics/pga_header_nasem_v2.jpg\" width=\"300px\" /></a></td>\n",
    "<td><a href=\"https://rd-alliance.org/\"><img src=\"https://www.rd-alliance.org/sites/all/themes/dotte/logo.png\" width=\"200px\" /></a></td>\n",
    "<td><a href=\"https://www.dataone.org/\"><img src=\"https://www.dataone.org/sites/default/files/d1-logo-v3_aligned_left_0_0.jpeg\" width=\"200px\" /></a></td>\n",
    "</tr>\n",
    "</table>\n",
    "\n",
    "**Reading:** Kriesberg, A. et al., (2017). An Analysis of Federal Policy on Public Access to Scientific Research Data. Data Science Journal. 16, p.27. DOI: http://doi.org/10.5334/dsj-2017-027"
   ]
  },
  {
   "cell_type": "markdown",
   "metadata": {
    "slideshow": {
     "slide_type": "subslide"
    }
   },
   "source": [
    "### And of course if you work here at The University of Utah\n",
    "\n",
    "**Take a moment to read the Award Management section of the Research Handbook**\n",
    "\n",
    "http://osp.utah.edu/policies/handbook/award-management/records-retention.php\n",
    "\n",
    "* Who owns the data? \n",
    "* What are the PI's responsibilities? \n",
    "* How long do you keep data? \n",
    "* Who maintains access to the data? \n",
    "* What happens to data when a researcher leaves? "
   ]
  },
  {
   "cell_type": "markdown",
   "metadata": {
    "slideshow": {
     "slide_type": "slide"
    }
   },
   "source": [
    "## Grant Requirements\n",
    "\n",
    "<table>\n",
    "<tr>\n",
    "<td><a href=\"https://www.nsf.gov/bfa/dias/policy/dmp.jsp\"><img src=\"https://www.nsf.gov/images/nsf_logo.png\" width=\"400px\" /></a></td>\n",
    "<td><a href=\"https://grants.nih.gov/policy/sharing.htm\"><img src=\"https://www.nih.gov/sites/all/themes/nih/images/nih-logo-color.png\" width=\"400px\" /></a></td>\n",
    "</tr>\n",
    "</table>"
   ]
  },
  {
   "cell_type": "markdown",
   "metadata": {
    "slideshow": {
     "slide_type": "slide"
    }
   },
   "source": [
    "## Data Management Plans (DMP)\n",
    "<center><a href=\"https://dmptool.org/general_guidance\"><img src=\"https://dmptool.org/images/DMPTool_logo_blue_shades_v1b3b.svg\" width=\"200px\" style=\"float:right;\" /></a></center>\n",
    "### Exercise\n",
    "Reading a DMP: https://grants.nih.gov/grants/policy/data_sharing/data_sharing_guidance.htm#ex \n",
    "1. What data will be shared? \n",
    "2. Who will have access to the data?\n",
    "3. Where will the data to be shared be located? \n",
    "4. When will the data be shared?\n",
    "5. How will researchers locate and access the data?\n",
    "\n",
    "Some more practice: https://dmptool.org/public_dmps?public%3Aall_scope=all "
   ]
  },
  {
   "cell_type": "markdown",
   "metadata": {
    "slideshow": {
     "slide_type": "slide"
    }
   },
   "source": [
    "## Documenting Your Data"
   ]
  },
  {
   "cell_type": "markdown",
   "metadata": {
    "slideshow": {
     "slide_type": "fragment"
    }
   },
   "source": [
    "### Have a Data Dictionary/Codebook/README file \n",
    "\n",
    "* http://www.icpsr.umich.edu/icpsrweb/AHRQMCC/support/faqs/2006/01/what-is-codebook \n",
    "* https://data.research.cornell.edu/content/readme "
   ]
  },
  {
   "cell_type": "markdown",
   "metadata": {
    "slideshow": {
     "slide_type": "subslide"
    }
   },
   "source": [
    "### Metadata Standards\n",
    "<table>\n",
    "<tr>\n",
    "<td><a href=\"https://fairsharing.org/\"><img src=\"https://fairsharing.org/static/img/home/svg/FAIRsharing-sdp.svg\" width=\"300px\" /></a></td>\n",
    "<td><a href=\"http://www.dcc.ac.uk/resources/metadata-standards\"><img src=\"http://www.open.ac.uk/blogs/dighum/wp-content/uploads/2013/08/dcc_logo.png\" width=\"100px\" /></a></td>\n",
    "<td><a href=\"http://rd-alliance.github.io/metadata-directory/\"><img src=\"https://www.rd-alliance.org/sites/all/themes/dotte/logo.png\" width=\"200px\" /></a></td>\n",
    "</tr>\n",
    "</table>\n",
    "\n",
    "* Descriptive\n",
    "* Structural\n",
    "* Administrative "
   ]
  },
  {
   "cell_type": "markdown",
   "metadata": {
    "slideshow": {
     "slide_type": "subslide"
    }
   },
   "source": [
    "### Taxonomies and Ontologies \n",
    "<table>\n",
    "<tr>\n",
    "<td><a href=\"https://fairsharing.org/\"><img src=\"https://fairsharing.org/static/img/home/svg/FAIRsharing-sdp.svg\" width=\"300px\" /></a></td>\n",
    "<td><a href=\"https://www.bioontology.org/\"><img src=\"https://www.bioontology.org/sites/all/themes/bioontology/logo.png\" width=\"400px\" /></a></td>\n",
    "<td><a href=\"http://lov.okfn.org/dataset/lov/\"><img src=\"http://lov.okfn.org/img/icon-LOV.png\" width=\"100px\" /></a></td>\n",
    "<td><a href=\"http://taxonomywarehouse.com/headword_list_new.aspx?vObject=10076&stype=ab\"><img src=\"http://taxonomywarehouse.com/images/TW_Logo.gif\" width=\"70px\" /></a></td>\n",
    "</tr>\n",
    "</table>\n",
    "\n",
    "**Highlighted use case:** Human Phenotype Ontology\n",
    "<table>\n",
    "<tr>\n",
    "<td colspan=2><a href=\"http://human-phenotype-ontology.github.io/\"><img src=\"https://cmg.broadinstitute.org/sites/default/files/HPO-logo-black.png\" width=\"100px\" /></a></td>\n",
    "<td><span style=\"font-size:70px\">&#10159;</span></td>\n",
    "<td><a href=\"http://compbio.charite.de/PhenIX/\"><img src=\"http://compbio.charite.de/PhenIX/img/pheniX.png\" width=\"200px\" /></a> <a href=\"https://phenotips.org/\"><img src=\"https://avatars7.githubusercontent.com/u/4872353\" width=\"100px\" /></a></td>\n",
    "</tr>\n",
    "</table>"
   ]
  },
  {
   "cell_type": "markdown",
   "metadata": {
    "slideshow": {
     "slide_type": "slide"
    }
   },
   "source": [
    "## Data repositories\n",
    "\n",
    "<table>\n",
    "<tr>\n",
    "<td><a href=\"http://www.re3data.org/\"><img src=\"http://www.re3data.org/bundles/kitlibraryre3dataapp/img/re3datalogo_black.png\" width=\"300px\" /></a></td>\n",
    "<td><a href=\"https://www.nlm.nih.gov/NIHbmic/nih_data_sharing_repositories.html\"><img src=\"https://www.nlm.nih.gov/NIHbmic/BMIC_logo.png\" width=\"150px\" /></a></td>\n",
    "<td><a href=\"https://datamed.org/\"><img src=\"https://datamed.org/img/biocaddie_png2.png\" width=\"200px\" /></a></td>\n",
    "</tr>\n",
    "<tr>\n",
    "<td><a href=\"http://healthcare.utah.edu/huntsmancancerinstitute/research/updb/\"><img src=\"http://healthcare.utah.edu/huntsmancancerinstitute/research/updb/images/updbbanner.jpg\" width=\"300px\" /></a></td>\n",
    "<td><a href=\"http://www.icpsr.umich.edu/icpsrweb/deposit/index.jsp\"><img src=\"http://s3.amazonaws.com/libapps/accounts/16059/images/icpsr-logo.png\" width=\"100px\" /></a></td>\n",
    "<td><a href=\"https://www.data.gov/\"><img src=\"https://www.data.gov/app/themes/roots-nextdatagov/assets/img/logo.svg\" width=\"200px\" /></a></td>\n",
    "</tr>\n",
    "<tr>\n",
    "<td><a href=\"https://zenodo.org/\"><img src=\"http://about.zenodo.org/static/img/logos/zenodo-gradient-2500.png\" width=\"300px\" /></a></td>\n",
    "<td><a href=\"http://datadryad.org/\"><img src=\"http://datadryad.org/themes/Mirage/images/dryad-logo.png\" width=\"150px\" /></a></td>\n",
    "<td><a href=\"https://figshare.com/\"><img src=\"https://web-static.figshare.com/assets/d99f1b23d653eb11bd18305a683449638651c766/public/global/images/full-logo.png\" width=\"200px\" /></a></td>\n",
    "</tr>\n",
    "</table>\n",
    "\n",
    "Other\n",
    "* [NYU Data Catalog](https://datacatalog.med.nyu.edu/)\n",
    "* [GitHub](http://github.com/)\n",
    "* [The Hive at the University of Utah](https://hive.utah.edu/)"
   ]
  },
  {
   "cell_type": "markdown",
   "metadata": {
    "slideshow": {
     "slide_type": "slide"
    }
   },
   "source": [
    "## Quick Note on Security\n",
    "\n",
    "If you're unsure about the type of data you are working with, check the University's [IT Rule 4-004C](http://regulations.utah.edu/it/rules/Rule4-004C.php).\n",
    "* Public data\n",
    "* Sensitive data\n",
    "* Restricted data\n",
    "\n",
    "How identifiable are you? https://aboutmyinfo.org/ \n",
    "\n",
    "Data security levels from [Harvard Medical School IT Group](https://policy.security.harvard.edu/view-data-security-level)"
   ]
  },
  {
   "cell_type": "markdown",
   "metadata": {
    "slideshow": {
     "slide_type": "slide"
    }
   },
   "source": [
    "## Exercise\n",
    "1. Find a suitable metadata standard or taxonomy/ontology for your project. \n",
    "2. Find a data repository appropriate to your needs. \n",
    "3. Start to write your own DMP. "
   ]
  },
  {
   "cell_type": "markdown",
   "metadata": {
    "slideshow": {
     "slide_type": "slide"
    }
   },
   "source": [
    "## Additional Resources\n",
    "\n",
    "* [Guides on Data and Data Sets](http://campusguides.lib.utah.edu/dataanddatasets)\n",
    "\n",
    "## Special Thanks\n",
    "To Daureen Nesdill, Data Management Librarian at Marriott Library, who shared much of her materials for reuse in this module. "
   ]
  }
 ],
 "metadata": {
  "celltoolbar": "Slideshow",
  "kernelspec": {
   "display_name": "Python 3",
   "language": "python",
   "name": "python3"
  },
  "language_info": {
   "codemirror_mode": {
    "name": "ipython",
    "version": 3
   },
   "file_extension": ".py",
   "mimetype": "text/x-python",
   "name": "python",
   "nbconvert_exporter": "python",
   "pygments_lexer": "ipython3",
   "version": "3.7.3"
  }
 },
 "nbformat": 4,
 "nbformat_minor": 2
}
